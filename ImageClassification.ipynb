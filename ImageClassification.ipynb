{
  "nbformat": 4,
  "nbformat_minor": 0,
  "metadata": {
    "colab": {
      "provenance": [],
      "authorship_tag": "ABX9TyMByW5iAU3jPxNDmBmXR4tl",
      "include_colab_link": true
    },
    "kernelspec": {
      "name": "python3",
      "display_name": "Python 3"
    },
    "language_info": {
      "name": "python"
    }
  },
  "cells": [
    {
      "cell_type": "markdown",
      "metadata": {
        "id": "view-in-github",
        "colab_type": "text"
      },
      "source": [
        "<a href=\"https://colab.research.google.com/github/saathwikad/ImageClassification/blob/main/ImageClassification.ipynb\" target=\"_parent\"><img src=\"https://colab.research.google.com/assets/colab-badge.svg\" alt=\"Open In Colab\"/></a>"
      ]
    },
    {
      "cell_type": "code",
      "execution_count": 1,
      "metadata": {
        "id": "jJhhnFpCBtJW"
      },
      "outputs": [],
      "source": [
        "from tensorflow import keras\n",
        "import matplotlib.pyplot as plt\n",
        "\n",
        "from sklearn.metrics import accuracy_score,confusion_matrix,classification_report\n",
        "import numpy as np\n",
        "\n",
        "import cv2"
      ]
    },
    {
      "cell_type": "code",
      "source": [
        "(x_train, y_train), (x_test, y_test) = keras.datasets.cifar10.load_data()"
      ],
      "metadata": {
        "colab": {
          "base_uri": "https://localhost:8080/"
        },
        "id": "jScPGavnDCvT",
        "outputId": "ed6b4a0b-402d-4a76-920a-eb2508508d77"
      },
      "execution_count": 2,
      "outputs": [
        {
          "output_type": "stream",
          "name": "stdout",
          "text": [
            "Downloading data from https://www.cs.toronto.edu/~kriz/cifar-10-python.tar.gz\n",
            "170498071/170498071 [==============================] - 2s 0us/step\n"
          ]
        }
      ]
    },
    {
      "cell_type": "code",
      "source": [
        "x_train.shape,x_test.shape"
      ],
      "metadata": {
        "colab": {
          "base_uri": "https://localhost:8080/"
        },
        "id": "rtGFVDjxDelU",
        "outputId": "503517c5-0cdc-48b9-fd7d-af6084d11e33"
      },
      "execution_count": 3,
      "outputs": [
        {
          "output_type": "execute_result",
          "data": {
            "text/plain": [
              "((50000, 32, 32, 3), (10000, 32, 32, 3))"
            ]
          },
          "metadata": {},
          "execution_count": 3
        }
      ]
    },
    {
      "cell_type": "code",
      "source": [
        "# Normalization\n",
        "x_train = x_train/255.0\n",
        "x_test = x_test/255.0"
      ],
      "metadata": {
        "id": "5twZAo2XDkL8"
      },
      "execution_count": 4,
      "outputs": []
    },
    {
      "cell_type": "code",
      "source": [
        "#sklearn expects i/p to be 2d array-model.fit(x_train,y_train)=>reshape to 2d array\n",
        "nsamples, nx, ny, nrgb = x_train.shape\n",
        "x_train2 = x_train.reshape((nsamples,nx*ny*nrgb))"
      ],
      "metadata": {
        "id": "BTftt0ogDo2j"
      },
      "execution_count": 5,
      "outputs": []
    },
    {
      "cell_type": "code",
      "source": [
        "#so,eventually,model.predict() should also be a 2d input\n",
        "nsamples, nx, ny, nrgb = x_test.shape\n",
        "x_test2 = x_test.reshape((nsamples,nx*ny*nrgb))"
      ],
      "metadata": {
        "id": "tvR7gACkDsSD"
      },
      "execution_count": 6,
      "outputs": []
    },
    {
      "cell_type": "code",
      "source": [
        "from sklearn.ensemble import RandomForestClassifier"
      ],
      "metadata": {
        "id": "kxrE-aY2DvGM"
      },
      "execution_count": 7,
      "outputs": []
    },
    {
      "cell_type": "code",
      "source": [
        "model=RandomForestClassifier()"
      ],
      "metadata": {
        "id": "33tksYXRDx6j"
      },
      "execution_count": 8,
      "outputs": []
    },
    {
      "cell_type": "code",
      "source": [
        "model.fit(x_train2,y_train)"
      ],
      "metadata": {
        "colab": {
          "base_uri": "https://localhost:8080/",
          "height": 130
        },
        "id": "gx9aEYO1D0Q6",
        "outputId": "5118139f-b51c-479d-f4a6-7a2ff1cc2f0c"
      },
      "execution_count": 9,
      "outputs": [
        {
          "output_type": "stream",
          "name": "stderr",
          "text": [
            "<ipython-input-9-97b78d839c03>:1: DataConversionWarning: A column-vector y was passed when a 1d array was expected. Please change the shape of y to (n_samples,), for example using ravel().\n",
            "  model.fit(x_train2,y_train)\n"
          ]
        },
        {
          "output_type": "execute_result",
          "data": {
            "text/plain": [
              "RandomForestClassifier()"
            ],
            "text/html": [
              "<style>#sk-container-id-1 {color: black;background-color: white;}#sk-container-id-1 pre{padding: 0;}#sk-container-id-1 div.sk-toggleable {background-color: white;}#sk-container-id-1 label.sk-toggleable__label {cursor: pointer;display: block;width: 100%;margin-bottom: 0;padding: 0.3em;box-sizing: border-box;text-align: center;}#sk-container-id-1 label.sk-toggleable__label-arrow:before {content: \"▸\";float: left;margin-right: 0.25em;color: #696969;}#sk-container-id-1 label.sk-toggleable__label-arrow:hover:before {color: black;}#sk-container-id-1 div.sk-estimator:hover label.sk-toggleable__label-arrow:before {color: black;}#sk-container-id-1 div.sk-toggleable__content {max-height: 0;max-width: 0;overflow: hidden;text-align: left;background-color: #f0f8ff;}#sk-container-id-1 div.sk-toggleable__content pre {margin: 0.2em;color: black;border-radius: 0.25em;background-color: #f0f8ff;}#sk-container-id-1 input.sk-toggleable__control:checked~div.sk-toggleable__content {max-height: 200px;max-width: 100%;overflow: auto;}#sk-container-id-1 input.sk-toggleable__control:checked~label.sk-toggleable__label-arrow:before {content: \"▾\";}#sk-container-id-1 div.sk-estimator input.sk-toggleable__control:checked~label.sk-toggleable__label {background-color: #d4ebff;}#sk-container-id-1 div.sk-label input.sk-toggleable__control:checked~label.sk-toggleable__label {background-color: #d4ebff;}#sk-container-id-1 input.sk-hidden--visually {border: 0;clip: rect(1px 1px 1px 1px);clip: rect(1px, 1px, 1px, 1px);height: 1px;margin: -1px;overflow: hidden;padding: 0;position: absolute;width: 1px;}#sk-container-id-1 div.sk-estimator {font-family: monospace;background-color: #f0f8ff;border: 1px dotted black;border-radius: 0.25em;box-sizing: border-box;margin-bottom: 0.5em;}#sk-container-id-1 div.sk-estimator:hover {background-color: #d4ebff;}#sk-container-id-1 div.sk-parallel-item::after {content: \"\";width: 100%;border-bottom: 1px solid gray;flex-grow: 1;}#sk-container-id-1 div.sk-label:hover label.sk-toggleable__label {background-color: #d4ebff;}#sk-container-id-1 div.sk-serial::before {content: \"\";position: absolute;border-left: 1px solid gray;box-sizing: border-box;top: 0;bottom: 0;left: 50%;z-index: 0;}#sk-container-id-1 div.sk-serial {display: flex;flex-direction: column;align-items: center;background-color: white;padding-right: 0.2em;padding-left: 0.2em;position: relative;}#sk-container-id-1 div.sk-item {position: relative;z-index: 1;}#sk-container-id-1 div.sk-parallel {display: flex;align-items: stretch;justify-content: center;background-color: white;position: relative;}#sk-container-id-1 div.sk-item::before, #sk-container-id-1 div.sk-parallel-item::before {content: \"\";position: absolute;border-left: 1px solid gray;box-sizing: border-box;top: 0;bottom: 0;left: 50%;z-index: -1;}#sk-container-id-1 div.sk-parallel-item {display: flex;flex-direction: column;z-index: 1;position: relative;background-color: white;}#sk-container-id-1 div.sk-parallel-item:first-child::after {align-self: flex-end;width: 50%;}#sk-container-id-1 div.sk-parallel-item:last-child::after {align-self: flex-start;width: 50%;}#sk-container-id-1 div.sk-parallel-item:only-child::after {width: 0;}#sk-container-id-1 div.sk-dashed-wrapped {border: 1px dashed gray;margin: 0 0.4em 0.5em 0.4em;box-sizing: border-box;padding-bottom: 0.4em;background-color: white;}#sk-container-id-1 div.sk-label label {font-family: monospace;font-weight: bold;display: inline-block;line-height: 1.2em;}#sk-container-id-1 div.sk-label-container {text-align: center;}#sk-container-id-1 div.sk-container {/* jupyter's `normalize.less` sets `[hidden] { display: none; }` but bootstrap.min.css set `[hidden] { display: none !important; }` so we also need the `!important` here to be able to override the default hidden behavior on the sphinx rendered scikit-learn.org. See: https://github.com/scikit-learn/scikit-learn/issues/21755 */display: inline-block !important;position: relative;}#sk-container-id-1 div.sk-text-repr-fallback {display: none;}</style><div id=\"sk-container-id-1\" class=\"sk-top-container\"><div class=\"sk-text-repr-fallback\"><pre>RandomForestClassifier()</pre><b>In a Jupyter environment, please rerun this cell to show the HTML representation or trust the notebook. <br />On GitHub, the HTML representation is unable to render, please try loading this page with nbviewer.org.</b></div><div class=\"sk-container\" hidden><div class=\"sk-item\"><div class=\"sk-estimator sk-toggleable\"><input class=\"sk-toggleable__control sk-hidden--visually\" id=\"sk-estimator-id-1\" type=\"checkbox\" checked><label for=\"sk-estimator-id-1\" class=\"sk-toggleable__label sk-toggleable__label-arrow\">RandomForestClassifier</label><div class=\"sk-toggleable__content\"><pre>RandomForestClassifier()</pre></div></div></div></div></div>"
            ]
          },
          "metadata": {},
          "execution_count": 9
        }
      ]
    },
    {
      "cell_type": "code",
      "source": [
        "y_pred=model.predict(x_test2)\n",
        "y_pred"
      ],
      "metadata": {
        "colab": {
          "base_uri": "https://localhost:8080/"
        },
        "id": "ZN3vzXrsEA9T",
        "outputId": "5540b303-2d92-499d-b1a3-860e7a7c996e"
      },
      "execution_count": 10,
      "outputs": [
        {
          "output_type": "execute_result",
          "data": {
            "text/plain": [
              "array([3, 8, 8, ..., 3, 6, 7], dtype=uint8)"
            ]
          },
          "metadata": {},
          "execution_count": 10
        }
      ]
    },
    {
      "cell_type": "code",
      "source": [
        "accuracy_score(y_pred,y_test)\n",
        "print(classification_report(y_pred,y_test))"
      ],
      "metadata": {
        "colab": {
          "base_uri": "https://localhost:8080/"
        },
        "id": "jIEG0-KOEEBC",
        "outputId": "ca024cfa-8696-4ad3-9853-81db901869f7"
      },
      "execution_count": 11,
      "outputs": [
        {
          "output_type": "stream",
          "name": "stdout",
          "text": [
            "              precision    recall  f1-score   support\n",
            "\n",
            "           0       0.55      0.55      0.55      1001\n",
            "           1       0.54      0.51      0.52      1060\n",
            "           2       0.32      0.36      0.34       898\n",
            "           3       0.27      0.34      0.30       791\n",
            "           4       0.38      0.40      0.39       963\n",
            "           5       0.39      0.43      0.41       904\n",
            "           6       0.58      0.47      0.52      1231\n",
            "           7       0.46      0.49      0.48       931\n",
            "           8       0.63      0.57      0.60      1098\n",
            "           9       0.55      0.49      0.52      1123\n",
            "\n",
            "    accuracy                           0.47     10000\n",
            "   macro avg       0.47      0.46      0.46     10000\n",
            "weighted avg       0.48      0.47      0.47     10000\n",
            "\n"
          ]
        }
      ]
    },
    {
      "cell_type": "code",
      "source": [
        "confusion_matrix(y_pred,y_test)"
      ],
      "metadata": {
        "colab": {
          "base_uri": "https://localhost:8080/"
        },
        "id": "deL09A95EbNm",
        "outputId": "53a10d69-4a5d-46b5-d29c-426c6f76bda5"
      },
      "execution_count": 12,
      "outputs": [
        {
          "output_type": "execute_result",
          "data": {
            "text/plain": [
              "array([[552,  28, 101,  49,  52,  30,  12,  48,  88,  41],\n",
              "       [ 42, 539,  46,  54,  24,  31,  34,  44,  85, 161],\n",
              "       [ 63,  24, 321,  84, 142,  93,  79,  56,  17,  19],\n",
              "       [ 14,  36,  74, 267,  51, 160,  75,  55,  23,  36],\n",
              "       [ 25,  17, 154,  90, 381,  63, 106,  94,  19,  14],\n",
              "       [ 17,  30,  59, 168,  50, 390,  54,  83,  33,  20],\n",
              "       [ 27,  34, 127, 134, 167,  78, 578,  46,  11,  29],\n",
              "       [ 31,  40,  68,  62,  84,  93,  25, 459,  23,  46],\n",
              "       [181,  66,  27,  22,  33,  31,   6,  24, 627,  81],\n",
              "       [ 48, 186,  23,  70,  16,  31,  31,  91,  74, 553]])"
            ]
          },
          "metadata": {},
          "execution_count": 12
        }
      ]
    },
    {
      "cell_type": "code",
      "source": [
        "from sklearn.neighbors import KNeighborsClassifier"
      ],
      "metadata": {
        "id": "z4hb7d2nEepL"
      },
      "execution_count": 13,
      "outputs": []
    },
    {
      "cell_type": "code",
      "source": [
        "knn=KNeighborsClassifier(n_neighbors=7)"
      ],
      "metadata": {
        "id": "ZfCXHwkgFPXc"
      },
      "execution_count": 14,
      "outputs": []
    },
    {
      "cell_type": "code",
      "source": [
        "knn.fit(x_train2,y_train)"
      ],
      "metadata": {
        "colab": {
          "base_uri": "https://localhost:8080/",
          "height": 130
        },
        "id": "eQ3nDvchFRdz",
        "outputId": "74d43888-1150-4296-f827-e7fdc38f3f8a"
      },
      "execution_count": 15,
      "outputs": [
        {
          "output_type": "stream",
          "name": "stderr",
          "text": [
            "/usr/local/lib/python3.10/dist-packages/sklearn/neighbors/_classification.py:215: DataConversionWarning: A column-vector y was passed when a 1d array was expected. Please change the shape of y to (n_samples,), for example using ravel().\n",
            "  return self._fit(X, y)\n"
          ]
        },
        {
          "output_type": "execute_result",
          "data": {
            "text/plain": [
              "KNeighborsClassifier(n_neighbors=7)"
            ],
            "text/html": [
              "<style>#sk-container-id-2 {color: black;background-color: white;}#sk-container-id-2 pre{padding: 0;}#sk-container-id-2 div.sk-toggleable {background-color: white;}#sk-container-id-2 label.sk-toggleable__label {cursor: pointer;display: block;width: 100%;margin-bottom: 0;padding: 0.3em;box-sizing: border-box;text-align: center;}#sk-container-id-2 label.sk-toggleable__label-arrow:before {content: \"▸\";float: left;margin-right: 0.25em;color: #696969;}#sk-container-id-2 label.sk-toggleable__label-arrow:hover:before {color: black;}#sk-container-id-2 div.sk-estimator:hover label.sk-toggleable__label-arrow:before {color: black;}#sk-container-id-2 div.sk-toggleable__content {max-height: 0;max-width: 0;overflow: hidden;text-align: left;background-color: #f0f8ff;}#sk-container-id-2 div.sk-toggleable__content pre {margin: 0.2em;color: black;border-radius: 0.25em;background-color: #f0f8ff;}#sk-container-id-2 input.sk-toggleable__control:checked~div.sk-toggleable__content {max-height: 200px;max-width: 100%;overflow: auto;}#sk-container-id-2 input.sk-toggleable__control:checked~label.sk-toggleable__label-arrow:before {content: \"▾\";}#sk-container-id-2 div.sk-estimator input.sk-toggleable__control:checked~label.sk-toggleable__label {background-color: #d4ebff;}#sk-container-id-2 div.sk-label input.sk-toggleable__control:checked~label.sk-toggleable__label {background-color: #d4ebff;}#sk-container-id-2 input.sk-hidden--visually {border: 0;clip: rect(1px 1px 1px 1px);clip: rect(1px, 1px, 1px, 1px);height: 1px;margin: -1px;overflow: hidden;padding: 0;position: absolute;width: 1px;}#sk-container-id-2 div.sk-estimator {font-family: monospace;background-color: #f0f8ff;border: 1px dotted black;border-radius: 0.25em;box-sizing: border-box;margin-bottom: 0.5em;}#sk-container-id-2 div.sk-estimator:hover {background-color: #d4ebff;}#sk-container-id-2 div.sk-parallel-item::after {content: \"\";width: 100%;border-bottom: 1px solid gray;flex-grow: 1;}#sk-container-id-2 div.sk-label:hover label.sk-toggleable__label {background-color: #d4ebff;}#sk-container-id-2 div.sk-serial::before {content: \"\";position: absolute;border-left: 1px solid gray;box-sizing: border-box;top: 0;bottom: 0;left: 50%;z-index: 0;}#sk-container-id-2 div.sk-serial {display: flex;flex-direction: column;align-items: center;background-color: white;padding-right: 0.2em;padding-left: 0.2em;position: relative;}#sk-container-id-2 div.sk-item {position: relative;z-index: 1;}#sk-container-id-2 div.sk-parallel {display: flex;align-items: stretch;justify-content: center;background-color: white;position: relative;}#sk-container-id-2 div.sk-item::before, #sk-container-id-2 div.sk-parallel-item::before {content: \"\";position: absolute;border-left: 1px solid gray;box-sizing: border-box;top: 0;bottom: 0;left: 50%;z-index: -1;}#sk-container-id-2 div.sk-parallel-item {display: flex;flex-direction: column;z-index: 1;position: relative;background-color: white;}#sk-container-id-2 div.sk-parallel-item:first-child::after {align-self: flex-end;width: 50%;}#sk-container-id-2 div.sk-parallel-item:last-child::after {align-self: flex-start;width: 50%;}#sk-container-id-2 div.sk-parallel-item:only-child::after {width: 0;}#sk-container-id-2 div.sk-dashed-wrapped {border: 1px dashed gray;margin: 0 0.4em 0.5em 0.4em;box-sizing: border-box;padding-bottom: 0.4em;background-color: white;}#sk-container-id-2 div.sk-label label {font-family: monospace;font-weight: bold;display: inline-block;line-height: 1.2em;}#sk-container-id-2 div.sk-label-container {text-align: center;}#sk-container-id-2 div.sk-container {/* jupyter's `normalize.less` sets `[hidden] { display: none; }` but bootstrap.min.css set `[hidden] { display: none !important; }` so we also need the `!important` here to be able to override the default hidden behavior on the sphinx rendered scikit-learn.org. See: https://github.com/scikit-learn/scikit-learn/issues/21755 */display: inline-block !important;position: relative;}#sk-container-id-2 div.sk-text-repr-fallback {display: none;}</style><div id=\"sk-container-id-2\" class=\"sk-top-container\"><div class=\"sk-text-repr-fallback\"><pre>KNeighborsClassifier(n_neighbors=7)</pre><b>In a Jupyter environment, please rerun this cell to show the HTML representation or trust the notebook. <br />On GitHub, the HTML representation is unable to render, please try loading this page with nbviewer.org.</b></div><div class=\"sk-container\" hidden><div class=\"sk-item\"><div class=\"sk-estimator sk-toggleable\"><input class=\"sk-toggleable__control sk-hidden--visually\" id=\"sk-estimator-id-2\" type=\"checkbox\" checked><label for=\"sk-estimator-id-2\" class=\"sk-toggleable__label sk-toggleable__label-arrow\">KNeighborsClassifier</label><div class=\"sk-toggleable__content\"><pre>KNeighborsClassifier(n_neighbors=7)</pre></div></div></div></div></div>"
            ]
          },
          "metadata": {},
          "execution_count": 15
        }
      ]
    },
    {
      "cell_type": "code",
      "source": [
        "y_pred_knn=knn.predict(x_test2)\n",
        "y_pred_knn"
      ],
      "metadata": {
        "colab": {
          "base_uri": "https://localhost:8080/"
        },
        "id": "mCnOxCxlFTpj",
        "outputId": "6696da0c-ff59-4c63-a57f-be4e16d347a0"
      },
      "execution_count": 16,
      "outputs": [
        {
          "output_type": "execute_result",
          "data": {
            "text/plain": [
              "array([2, 8, 8, ..., 5, 6, 4], dtype=uint8)"
            ]
          },
          "metadata": {},
          "execution_count": 16
        }
      ]
    },
    {
      "cell_type": "code",
      "source": [
        "accuracy_score(y_pred_knn,y_test)\n",
        "print(classification_report(y_pred_knn,y_test))"
      ],
      "metadata": {
        "colab": {
          "base_uri": "https://localhost:8080/"
        },
        "id": "0yzshHqvFWQL",
        "outputId": "c3a8b8aa-0293-497a-87eb-b803a986446f"
      },
      "execution_count": 17,
      "outputs": [
        {
          "output_type": "stream",
          "name": "stdout",
          "text": [
            "              precision    recall  f1-score   support\n",
            "\n",
            "           0       0.52      0.40      0.45      1299\n",
            "           1       0.20      0.70      0.30       280\n",
            "           2       0.44      0.22      0.29      2013\n",
            "           3       0.20      0.28      0.23       707\n",
            "           4       0.52      0.23      0.32      2222\n",
            "           5       0.20      0.40      0.27       504\n",
            "           6       0.27      0.35      0.30       761\n",
            "           7       0.20      0.70      0.31       281\n",
            "           8       0.69      0.39      0.50      1749\n",
            "           9       0.14      0.73      0.23       184\n",
            "\n",
            "    accuracy                           0.34     10000\n",
            "   macro avg       0.34      0.44      0.32     10000\n",
            "weighted avg       0.45      0.34      0.35     10000\n",
            "\n"
          ]
        }
      ]
    },
    {
      "cell_type": "code",
      "source": [
        "confusion_matrix(y_pred_knn,y_test)"
      ],
      "metadata": {
        "colab": {
          "base_uri": "https://localhost:8080/"
        },
        "id": "GTBBVr7gGAl8",
        "outputId": "be97db5e-8564-459c-ba72-3b73f036b2c3"
      },
      "execution_count": 18,
      "outputs": [
        {
          "output_type": "execute_result",
          "data": {
            "text/plain": [
              "array([[518, 118, 110,  66,  60,  63,  22,  78, 112, 152],\n",
              "       [  7, 195,   2,   5,   0,   2,   1,   8,  10,  50],\n",
              "       [118, 124, 437, 243, 268, 225, 271, 185,  47,  95],\n",
              "       [ 12,  51,  50, 199,  33, 156,  56,  57,  34,  59],\n",
              "       [ 46, 173, 250, 214, 521, 201, 319, 294,  69, 135],\n",
              "       [  5,  32,  24, 102,  14, 204,  32,  60,  12,  19],\n",
              "       [ 30,  55,  65, 108,  44,  80, 265,  48,  14,  52],\n",
              "       [  5,   8,   7,  11,  11,  10,   1, 196,   7,  25],\n",
              "       [255, 223,  53,  51,  48,  53,  32,  68, 688, 278],\n",
              "       [  4,  21,   2,   1,   1,   6,   1,   6,   7, 135]])"
            ]
          },
          "metadata": {},
          "execution_count": 18
        }
      ]
    },
    {
      "cell_type": "code",
      "source": [
        "from sklearn.tree import DecisionTreeClassifier"
      ],
      "metadata": {
        "id": "tmWd1um4GEIT"
      },
      "execution_count": 19,
      "outputs": []
    },
    {
      "cell_type": "code",
      "source": [
        "dtc=DecisionTreeClassifier()"
      ],
      "metadata": {
        "id": "RdkHzhGjGHLd"
      },
      "execution_count": 20,
      "outputs": []
    },
    {
      "cell_type": "code",
      "source": [
        "dtc.fit(x_train2,y_train)"
      ],
      "metadata": {
        "colab": {
          "base_uri": "https://localhost:8080/",
          "height": 75
        },
        "id": "qFCWfCr9GJVL",
        "outputId": "dc70cecf-b2b4-4f5f-e0a8-fb0551e5ce7b"
      },
      "execution_count": 21,
      "outputs": [
        {
          "output_type": "execute_result",
          "data": {
            "text/plain": [
              "DecisionTreeClassifier()"
            ],
            "text/html": [
              "<style>#sk-container-id-3 {color: black;background-color: white;}#sk-container-id-3 pre{padding: 0;}#sk-container-id-3 div.sk-toggleable {background-color: white;}#sk-container-id-3 label.sk-toggleable__label {cursor: pointer;display: block;width: 100%;margin-bottom: 0;padding: 0.3em;box-sizing: border-box;text-align: center;}#sk-container-id-3 label.sk-toggleable__label-arrow:before {content: \"▸\";float: left;margin-right: 0.25em;color: #696969;}#sk-container-id-3 label.sk-toggleable__label-arrow:hover:before {color: black;}#sk-container-id-3 div.sk-estimator:hover label.sk-toggleable__label-arrow:before {color: black;}#sk-container-id-3 div.sk-toggleable__content {max-height: 0;max-width: 0;overflow: hidden;text-align: left;background-color: #f0f8ff;}#sk-container-id-3 div.sk-toggleable__content pre {margin: 0.2em;color: black;border-radius: 0.25em;background-color: #f0f8ff;}#sk-container-id-3 input.sk-toggleable__control:checked~div.sk-toggleable__content {max-height: 200px;max-width: 100%;overflow: auto;}#sk-container-id-3 input.sk-toggleable__control:checked~label.sk-toggleable__label-arrow:before {content: \"▾\";}#sk-container-id-3 div.sk-estimator input.sk-toggleable__control:checked~label.sk-toggleable__label {background-color: #d4ebff;}#sk-container-id-3 div.sk-label input.sk-toggleable__control:checked~label.sk-toggleable__label {background-color: #d4ebff;}#sk-container-id-3 input.sk-hidden--visually {border: 0;clip: rect(1px 1px 1px 1px);clip: rect(1px, 1px, 1px, 1px);height: 1px;margin: -1px;overflow: hidden;padding: 0;position: absolute;width: 1px;}#sk-container-id-3 div.sk-estimator {font-family: monospace;background-color: #f0f8ff;border: 1px dotted black;border-radius: 0.25em;box-sizing: border-box;margin-bottom: 0.5em;}#sk-container-id-3 div.sk-estimator:hover {background-color: #d4ebff;}#sk-container-id-3 div.sk-parallel-item::after {content: \"\";width: 100%;border-bottom: 1px solid gray;flex-grow: 1;}#sk-container-id-3 div.sk-label:hover label.sk-toggleable__label {background-color: #d4ebff;}#sk-container-id-3 div.sk-serial::before {content: \"\";position: absolute;border-left: 1px solid gray;box-sizing: border-box;top: 0;bottom: 0;left: 50%;z-index: 0;}#sk-container-id-3 div.sk-serial {display: flex;flex-direction: column;align-items: center;background-color: white;padding-right: 0.2em;padding-left: 0.2em;position: relative;}#sk-container-id-3 div.sk-item {position: relative;z-index: 1;}#sk-container-id-3 div.sk-parallel {display: flex;align-items: stretch;justify-content: center;background-color: white;position: relative;}#sk-container-id-3 div.sk-item::before, #sk-container-id-3 div.sk-parallel-item::before {content: \"\";position: absolute;border-left: 1px solid gray;box-sizing: border-box;top: 0;bottom: 0;left: 50%;z-index: -1;}#sk-container-id-3 div.sk-parallel-item {display: flex;flex-direction: column;z-index: 1;position: relative;background-color: white;}#sk-container-id-3 div.sk-parallel-item:first-child::after {align-self: flex-end;width: 50%;}#sk-container-id-3 div.sk-parallel-item:last-child::after {align-self: flex-start;width: 50%;}#sk-container-id-3 div.sk-parallel-item:only-child::after {width: 0;}#sk-container-id-3 div.sk-dashed-wrapped {border: 1px dashed gray;margin: 0 0.4em 0.5em 0.4em;box-sizing: border-box;padding-bottom: 0.4em;background-color: white;}#sk-container-id-3 div.sk-label label {font-family: monospace;font-weight: bold;display: inline-block;line-height: 1.2em;}#sk-container-id-3 div.sk-label-container {text-align: center;}#sk-container-id-3 div.sk-container {/* jupyter's `normalize.less` sets `[hidden] { display: none; }` but bootstrap.min.css set `[hidden] { display: none !important; }` so we also need the `!important` here to be able to override the default hidden behavior on the sphinx rendered scikit-learn.org. See: https://github.com/scikit-learn/scikit-learn/issues/21755 */display: inline-block !important;position: relative;}#sk-container-id-3 div.sk-text-repr-fallback {display: none;}</style><div id=\"sk-container-id-3\" class=\"sk-top-container\"><div class=\"sk-text-repr-fallback\"><pre>DecisionTreeClassifier()</pre><b>In a Jupyter environment, please rerun this cell to show the HTML representation or trust the notebook. <br />On GitHub, the HTML representation is unable to render, please try loading this page with nbviewer.org.</b></div><div class=\"sk-container\" hidden><div class=\"sk-item\"><div class=\"sk-estimator sk-toggleable\"><input class=\"sk-toggleable__control sk-hidden--visually\" id=\"sk-estimator-id-3\" type=\"checkbox\" checked><label for=\"sk-estimator-id-3\" class=\"sk-toggleable__label sk-toggleable__label-arrow\">DecisionTreeClassifier</label><div class=\"sk-toggleable__content\"><pre>DecisionTreeClassifier()</pre></div></div></div></div></div>"
            ]
          },
          "metadata": {},
          "execution_count": 21
        }
      ]
    },
    {
      "cell_type": "code",
      "source": [
        "y_pred_dtc=dtc.predict(x_test2)\n",
        "\n",
        "y_pred_dtc"
      ],
      "metadata": {
        "colab": {
          "base_uri": "https://localhost:8080/"
        },
        "id": "zTFdLs4-GLcM",
        "outputId": "1890013b-6552-4591-d8cd-5107c2ebd8fb"
      },
      "execution_count": 22,
      "outputs": [
        {
          "output_type": "execute_result",
          "data": {
            "text/plain": [
              "array([7, 8, 9, ..., 2, 2, 1], dtype=uint8)"
            ]
          },
          "metadata": {},
          "execution_count": 22
        }
      ]
    },
    {
      "cell_type": "code",
      "source": [
        "accuracy_score(y_pred_dtc,y_test)\n",
        "print(classification_report(y_pred_dtc,y_test))"
      ],
      "metadata": {
        "colab": {
          "base_uri": "https://localhost:8080/"
        },
        "id": "fZoEWyF3HIee",
        "outputId": "215f32f2-d08b-4198-e207-57e44ac33006"
      },
      "execution_count": 28,
      "outputs": [
        {
          "output_type": "stream",
          "name": "stdout",
          "text": [
            "              precision    recall  f1-score   support\n",
            "\n",
            "           0       0.35      0.33      0.34      1067\n",
            "           1       0.26      0.27      0.26       942\n",
            "           2       0.23      0.21      0.22      1109\n",
            "           3       0.18      0.19      0.18       955\n",
            "           4       0.23      0.22      0.23      1015\n",
            "           5       0.21      0.22      0.22       960\n",
            "           6       0.28      0.29      0.29       976\n",
            "           7       0.27      0.27      0.27       977\n",
            "           8       0.38      0.37      0.38      1019\n",
            "           9       0.29      0.30      0.29       980\n",
            "\n",
            "    accuracy                           0.27     10000\n",
            "   macro avg       0.27      0.27      0.27     10000\n",
            "weighted avg       0.27      0.27      0.27     10000\n",
            "\n"
          ]
        }
      ]
    },
    {
      "cell_type": "code",
      "source": [
        "confusion_matrix(y_pred_dtc,y_test)"
      ],
      "metadata": {
        "colab": {
          "base_uri": "https://localhost:8080/"
        },
        "id": "LbdxHxMzHO_8",
        "outputId": "b5508993-0566-46af-e58c-686c2c9e5716"
      },
      "execution_count": 29,
      "outputs": [
        {
          "output_type": "execute_result",
          "data": {
            "text/plain": [
              "array([[349,  77,  98,  68,  60,  60,  50,  88, 133,  84],\n",
              "       [ 73, 256,  42,  64,  43,  58,  50,  82, 114, 160],\n",
              "       [ 90,  83, 231, 121, 161, 106, 122,  84,  51,  60],\n",
              "       [ 47,  78,  99, 179,  79, 161, 123,  89,  42,  58],\n",
              "       [ 65,  58, 141, 105, 228,  86, 138,  95,  56,  43],\n",
              "       [ 51,  52, 116, 133, 109, 212,  92, 101,  42,  52],\n",
              "       [ 40,  53,  99, 135, 125, 108, 282,  63,  31,  40],\n",
              "       [ 56,  66,  81,  96, 110,  97,  66, 267,  40,  98],\n",
              "       [156, 113,  37,  39,  39,  59,  28,  53, 382, 113],\n",
              "       [ 73, 164,  56,  60,  46,  53,  49,  78, 109, 292]])"
            ]
          },
          "metadata": {},
          "execution_count": 29
        }
      ]
    },
    {
      "cell_type": "code",
      "source": [
        "from sklearn.naive_bayes import GaussianNB"
      ],
      "metadata": {
        "id": "xHIrg2gfHV_E"
      },
      "execution_count": 30,
      "outputs": []
    },
    {
      "cell_type": "code",
      "source": [
        "nb=GaussianNB()"
      ],
      "metadata": {
        "id": "2ZSnIiC-HkHV"
      },
      "execution_count": 31,
      "outputs": []
    },
    {
      "cell_type": "code",
      "source": [
        "nb.fit(x_train2,y_train)"
      ],
      "metadata": {
        "colab": {
          "base_uri": "https://localhost:8080/",
          "height": 130
        },
        "id": "EaeVSEPtHlWU",
        "outputId": "12e3f804-d187-462b-e76e-774db86ff615"
      },
      "execution_count": 32,
      "outputs": [
        {
          "output_type": "stream",
          "name": "stderr",
          "text": [
            "/usr/local/lib/python3.10/dist-packages/sklearn/utils/validation.py:1143: DataConversionWarning: A column-vector y was passed when a 1d array was expected. Please change the shape of y to (n_samples, ), for example using ravel().\n",
            "  y = column_or_1d(y, warn=True)\n"
          ]
        },
        {
          "output_type": "execute_result",
          "data": {
            "text/plain": [
              "GaussianNB()"
            ],
            "text/html": [
              "<style>#sk-container-id-4 {color: black;background-color: white;}#sk-container-id-4 pre{padding: 0;}#sk-container-id-4 div.sk-toggleable {background-color: white;}#sk-container-id-4 label.sk-toggleable__label {cursor: pointer;display: block;width: 100%;margin-bottom: 0;padding: 0.3em;box-sizing: border-box;text-align: center;}#sk-container-id-4 label.sk-toggleable__label-arrow:before {content: \"▸\";float: left;margin-right: 0.25em;color: #696969;}#sk-container-id-4 label.sk-toggleable__label-arrow:hover:before {color: black;}#sk-container-id-4 div.sk-estimator:hover label.sk-toggleable__label-arrow:before {color: black;}#sk-container-id-4 div.sk-toggleable__content {max-height: 0;max-width: 0;overflow: hidden;text-align: left;background-color: #f0f8ff;}#sk-container-id-4 div.sk-toggleable__content pre {margin: 0.2em;color: black;border-radius: 0.25em;background-color: #f0f8ff;}#sk-container-id-4 input.sk-toggleable__control:checked~div.sk-toggleable__content {max-height: 200px;max-width: 100%;overflow: auto;}#sk-container-id-4 input.sk-toggleable__control:checked~label.sk-toggleable__label-arrow:before {content: \"▾\";}#sk-container-id-4 div.sk-estimator input.sk-toggleable__control:checked~label.sk-toggleable__label {background-color: #d4ebff;}#sk-container-id-4 div.sk-label input.sk-toggleable__control:checked~label.sk-toggleable__label {background-color: #d4ebff;}#sk-container-id-4 input.sk-hidden--visually {border: 0;clip: rect(1px 1px 1px 1px);clip: rect(1px, 1px, 1px, 1px);height: 1px;margin: -1px;overflow: hidden;padding: 0;position: absolute;width: 1px;}#sk-container-id-4 div.sk-estimator {font-family: monospace;background-color: #f0f8ff;border: 1px dotted black;border-radius: 0.25em;box-sizing: border-box;margin-bottom: 0.5em;}#sk-container-id-4 div.sk-estimator:hover {background-color: #d4ebff;}#sk-container-id-4 div.sk-parallel-item::after {content: \"\";width: 100%;border-bottom: 1px solid gray;flex-grow: 1;}#sk-container-id-4 div.sk-label:hover label.sk-toggleable__label {background-color: #d4ebff;}#sk-container-id-4 div.sk-serial::before {content: \"\";position: absolute;border-left: 1px solid gray;box-sizing: border-box;top: 0;bottom: 0;left: 50%;z-index: 0;}#sk-container-id-4 div.sk-serial {display: flex;flex-direction: column;align-items: center;background-color: white;padding-right: 0.2em;padding-left: 0.2em;position: relative;}#sk-container-id-4 div.sk-item {position: relative;z-index: 1;}#sk-container-id-4 div.sk-parallel {display: flex;align-items: stretch;justify-content: center;background-color: white;position: relative;}#sk-container-id-4 div.sk-item::before, #sk-container-id-4 div.sk-parallel-item::before {content: \"\";position: absolute;border-left: 1px solid gray;box-sizing: border-box;top: 0;bottom: 0;left: 50%;z-index: -1;}#sk-container-id-4 div.sk-parallel-item {display: flex;flex-direction: column;z-index: 1;position: relative;background-color: white;}#sk-container-id-4 div.sk-parallel-item:first-child::after {align-self: flex-end;width: 50%;}#sk-container-id-4 div.sk-parallel-item:last-child::after {align-self: flex-start;width: 50%;}#sk-container-id-4 div.sk-parallel-item:only-child::after {width: 0;}#sk-container-id-4 div.sk-dashed-wrapped {border: 1px dashed gray;margin: 0 0.4em 0.5em 0.4em;box-sizing: border-box;padding-bottom: 0.4em;background-color: white;}#sk-container-id-4 div.sk-label label {font-family: monospace;font-weight: bold;display: inline-block;line-height: 1.2em;}#sk-container-id-4 div.sk-label-container {text-align: center;}#sk-container-id-4 div.sk-container {/* jupyter's `normalize.less` sets `[hidden] { display: none; }` but bootstrap.min.css set `[hidden] { display: none !important; }` so we also need the `!important` here to be able to override the default hidden behavior on the sphinx rendered scikit-learn.org. See: https://github.com/scikit-learn/scikit-learn/issues/21755 */display: inline-block !important;position: relative;}#sk-container-id-4 div.sk-text-repr-fallback {display: none;}</style><div id=\"sk-container-id-4\" class=\"sk-top-container\"><div class=\"sk-text-repr-fallback\"><pre>GaussianNB()</pre><b>In a Jupyter environment, please rerun this cell to show the HTML representation or trust the notebook. <br />On GitHub, the HTML representation is unable to render, please try loading this page with nbviewer.org.</b></div><div class=\"sk-container\" hidden><div class=\"sk-item\"><div class=\"sk-estimator sk-toggleable\"><input class=\"sk-toggleable__control sk-hidden--visually\" id=\"sk-estimator-id-4\" type=\"checkbox\" checked><label for=\"sk-estimator-id-4\" class=\"sk-toggleable__label sk-toggleable__label-arrow\">GaussianNB</label><div class=\"sk-toggleable__content\"><pre>GaussianNB()</pre></div></div></div></div></div>"
            ]
          },
          "metadata": {},
          "execution_count": 32
        }
      ]
    },
    {
      "cell_type": "code",
      "source": [
        "y_pred_nb=nb.predict(x_test2)\n",
        "\n",
        "y_pred_nb"
      ],
      "metadata": {
        "colab": {
          "base_uri": "https://localhost:8080/"
        },
        "id": "QZG97GoeHm59",
        "outputId": "b52f61fd-7b31-4b2a-f881-f3d254de393e"
      },
      "execution_count": 33,
      "outputs": [
        {
          "output_type": "execute_result",
          "data": {
            "text/plain": [
              "array([6, 8, 8, ..., 6, 5, 4], dtype=uint8)"
            ]
          },
          "metadata": {},
          "execution_count": 33
        }
      ]
    },
    {
      "cell_type": "code",
      "source": [
        "accuracy_score(y_pred_nb,y_test)\n",
        "print(classification_report(y_pred_nb,y_test))"
      ],
      "metadata": {
        "colab": {
          "base_uri": "https://localhost:8080/"
        },
        "id": "JyOqCoGFIjUK",
        "outputId": "bb3cfe45-1639-41aa-fea3-06604f2339cf"
      },
      "execution_count": 34,
      "outputs": [
        {
          "output_type": "stream",
          "name": "stdout",
          "text": [
            "              precision    recall  f1-score   support\n",
            "\n",
            "           0       0.49      0.27      0.35      1817\n",
            "           1       0.17      0.41      0.24       405\n",
            "           2       0.08      0.19      0.12       443\n",
            "           3       0.08      0.25      0.12       305\n",
            "           4       0.42      0.24      0.30      1737\n",
            "           5       0.26      0.31      0.29       840\n",
            "           6       0.47      0.25      0.33      1846\n",
            "           7       0.13      0.42      0.20       310\n",
            "           8       0.47      0.39      0.42      1219\n",
            "           9       0.41      0.38      0.39      1078\n",
            "\n",
            "    accuracy                           0.30     10000\n",
            "   macro avg       0.30      0.31      0.28     10000\n",
            "weighted avg       0.39      0.30      0.32     10000\n",
            "\n"
          ]
        }
      ]
    },
    {
      "cell_type": "code",
      "source": [
        "confusion_matrix(y_pred_nb,y_test)"
      ],
      "metadata": {
        "colab": {
          "base_uri": "https://localhost:8080/"
        },
        "id": "Fl7apoKoIlkc",
        "outputId": "b02b5e00-71b7-460c-acbc-de792a757922"
      },
      "execution_count": 35,
      "outputs": [
        {
          "output_type": "execute_result",
          "data": {
            "text/plain": [
              "array([[494, 141, 225, 163,  86, 156, 106, 134, 168, 144],\n",
              "       [ 20, 166,  24,  36,   8,  17,   2,  24,  41,  67],\n",
              "       [ 39,  24,  83,  54,  57,  55,  60,  36,  18,  17],\n",
              "       [ 10,  31,  15,  76,  26,  51,  18,  41,  17,  20],\n",
              "       [ 84,  66, 292, 151, 417, 167, 228, 228,  56,  48],\n",
              "       [ 34,  72,  48, 129,  38, 264,  46,  94,  83,  32],\n",
              "       [ 50, 192, 209, 262, 265, 159, 467, 102,  39, 101],\n",
              "       [  9,  19,  21,  26,  22,  36,  15, 131,   8,  23],\n",
              "       [200, 121,  54,  34,  50,  57,  19,  72, 471, 141],\n",
              "       [ 60, 168,  29,  69,  31,  38,  39, 138,  99, 407]])"
            ]
          },
          "metadata": {},
          "execution_count": 35
        }
      ]
    },
    {
      "cell_type": "code",
      "source": [
        "img_path='/content/bird.jpg'"
      ],
      "metadata": {
        "id": "hRM4wJA4InUk"
      },
      "execution_count": 41,
      "outputs": []
    },
    {
      "cell_type": "code",
      "source": [
        "img_arr=cv2.imread(img_path)"
      ],
      "metadata": {
        "id": "ZxkUO8gaIuz8"
      },
      "execution_count": 42,
      "outputs": []
    },
    {
      "cell_type": "code",
      "source": [
        "print(img_arr)"
      ],
      "metadata": {
        "colab": {
          "base_uri": "https://localhost:8080/"
        },
        "id": "ALsZyL38IxEL",
        "outputId": "0e2ac910-0c98-4dab-f792-c596ddce893c"
      },
      "execution_count": 43,
      "outputs": [
        {
          "output_type": "stream",
          "name": "stdout",
          "text": [
            "[[[ 65  81  63]\n",
            "  [ 65  81  63]\n",
            "  [ 65  81  63]\n",
            "  ...\n",
            "  [ 74  85  69]\n",
            "  [ 73  84  68]\n",
            "  [ 73  84  68]]\n",
            "\n",
            " [[ 66  82  64]\n",
            "  [ 66  82  64]\n",
            "  [ 66  82  64]\n",
            "  ...\n",
            "  [ 73  84  68]\n",
            "  [ 73  84  68]\n",
            "  [ 72  83  67]]\n",
            "\n",
            " [[ 67  83  65]\n",
            "  [ 67  83  65]\n",
            "  [ 67  83  65]\n",
            "  ...\n",
            "  [ 73  84  68]\n",
            "  [ 73  84  68]\n",
            "  [ 72  83  67]]\n",
            "\n",
            " ...\n",
            "\n",
            " [[195 189 206]\n",
            "  [194 188 205]\n",
            "  [192 186 203]\n",
            "  ...\n",
            "  [ 53  64  56]\n",
            "  [ 52  63  55]\n",
            "  [ 52  63  55]]\n",
            "\n",
            " [[194 188 205]\n",
            "  [193 187 204]\n",
            "  [192 186 203]\n",
            "  ...\n",
            "  [ 52  63  55]\n",
            "  [ 52  63  55]\n",
            "  [ 52  63  55]]\n",
            "\n",
            " [[194 188 205]\n",
            "  [193 187 204]\n",
            "  [192 186 203]\n",
            "  ...\n",
            "  [ 51  62  54]\n",
            "  [ 52  63  55]\n",
            "  [ 53  64  56]]]\n"
          ]
        }
      ]
    },
    {
      "cell_type": "code",
      "source": [
        "img_arr=cv2.resize(img_arr,(32,32))"
      ],
      "metadata": {
        "id": "yTcEm7g8JC9s"
      },
      "execution_count": 44,
      "outputs": []
    },
    {
      "cell_type": "code",
      "source": [
        "#so,eventually,model.predict() should also be a 2d input\n",
        "nx, ny, nrgb = img_arr.shape\n",
        "img_arr2 = img_arr.reshape(1,(nx*ny*nrgb))"
      ],
      "metadata": {
        "id": "sH5RKsHYJTz0"
      },
      "execution_count": 45,
      "outputs": []
    },
    {
      "cell_type": "code",
      "source": [
        "classes = [\"airplane\",\"automobile\",\"bird\",\"cat\",\"deer\",\"dog\",\"frog\",\"horse\",\"ship\",\"truck\"]\n"
      ],
      "metadata": {
        "id": "9VofDz-cJVl9"
      },
      "execution_count": 47,
      "outputs": []
    },
    {
      "cell_type": "code",
      "source": [
        "ans=model.predict(img_arr2)\n",
        "print(classes[ans[0]])\n",
        "#RandomForestClassifier"
      ],
      "metadata": {
        "colab": {
          "base_uri": "https://localhost:8080/"
        },
        "id": "TMkPf-VcJYee",
        "outputId": "2b2a1084-f0ae-4018-e364-df9dd953f9ce"
      },
      "execution_count": 48,
      "outputs": [
        {
          "output_type": "stream",
          "name": "stdout",
          "text": [
            "bird\n"
          ]
        }
      ]
    },
    {
      "cell_type": "code",
      "source": [
        "img_path='/content/dog1.jpg'"
      ],
      "metadata": {
        "id": "-CBk_itkJrWV"
      },
      "execution_count": 76,
      "outputs": []
    },
    {
      "cell_type": "code",
      "source": [
        "img_arr=cv2.imread(img_path)\n",
        "img_arr=cv2.resize(img_arr,(32,32))"
      ],
      "metadata": {
        "id": "xEt5dnTCJ5hE"
      },
      "execution_count": 77,
      "outputs": []
    },
    {
      "cell_type": "code",
      "source": [
        "nx, ny, nrgb = img_arr.shape\n",
        "img_arr2 = img_arr.reshape(1,(nx*ny*nrgb))"
      ],
      "metadata": {
        "id": "UHyKclGyK8Cy"
      },
      "execution_count": 78,
      "outputs": []
    },
    {
      "cell_type": "code",
      "source": [
        "img_arr"
      ],
      "metadata": {
        "colab": {
          "base_uri": "https://localhost:8080/",
          "height": 73
        },
        "id": "s24SVPy4KSKG",
        "outputId": "ddc815a7-c77a-4ed7-d60f-50ecff070995"
      },
      "execution_count": 79,
      "outputs": [
        {
          "output_type": "execute_result",
          "data": {
            "text/plain": [
              "array([[[125, 190, 168],\n",
              "        [126, 192, 167],\n",
              "        [129, 194, 169],\n",
              "        ...,\n",
              "        [123, 188, 166],\n",
              "        [117, 187, 164],\n",
              "        [115, 185, 162]],\n",
              "\n",
              "       [[127, 193, 168],\n",
              "        [129, 195, 170],\n",
              "        [133, 198, 173],\n",
              "        ...,\n",
              "        [115, 188, 160],\n",
              "        [114, 185, 159],\n",
              "        [107, 180, 154]],\n",
              "\n",
              "       [[122, 191, 164],\n",
              "        [125, 194, 167],\n",
              "        [131, 197, 172],\n",
              "        ...,\n",
              "        [104, 186, 157],\n",
              "        [102, 184, 155],\n",
              "        [ 99, 181, 152]],\n",
              "\n",
              "       ...,\n",
              "\n",
              "       [[ 73, 135, 117],\n",
              "        [ 92, 151, 146],\n",
              "        [ 93, 150, 135],\n",
              "        ...,\n",
              "        [ 67, 120, 110],\n",
              "        [ 68, 127, 119],\n",
              "        [ 69, 128, 113]],\n",
              "\n",
              "       [[ 71, 129, 122],\n",
              "        [ 79, 142, 132],\n",
              "        [ 88, 139, 142],\n",
              "        ...,\n",
              "        [ 58, 112, 105],\n",
              "        [ 45, 105, 168],\n",
              "        [ 50, 101, 116]],\n",
              "\n",
              "       [[ 57, 119,  97],\n",
              "        [ 74, 136, 123],\n",
              "        [ 80, 138, 132],\n",
              "        ...,\n",
              "        [ 73, 134, 125],\n",
              "        [ 71, 118, 127],\n",
              "        [ 73, 126, 132]]], dtype=uint8)"
            ],
            "text/html": [
              "<style>\n",
              "      .ndarray_repr .ndarray_raw_data {\n",
              "        display: none;\n",
              "      }\n",
              "      .ndarray_repr.show_array .ndarray_raw_data {\n",
              "        display: block;\n",
              "      }\n",
              "      .ndarray_repr.show_array .ndarray_image_preview {\n",
              "        display: none;\n",
              "      }\n",
              "      </style>\n",
              "      <div id=\"id-df05530c-ca0a-4414-9553-64fddf406d9f\" class=\"ndarray_repr\"><pre>ndarray (32, 32, 3) <button style=\"padding: 0 2px;\">show data</button></pre><img src=\"data:image/png;base64,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\" class=\"ndarray_image_preview\" /><pre class=\"ndarray_raw_data\">array([[[125, 190, 168],\n",
              "        [126, 192, 167],\n",
              "        [129, 194, 169],\n",
              "        ...,\n",
              "        [123, 188, 166],\n",
              "        [117, 187, 164],\n",
              "        [115, 185, 162]],\n",
              "\n",
              "       [[127, 193, 168],\n",
              "        [129, 195, 170],\n",
              "        [133, 198, 173],\n",
              "        ...,\n",
              "        [115, 188, 160],\n",
              "        [114, 185, 159],\n",
              "        [107, 180, 154]],\n",
              "\n",
              "       [[122, 191, 164],\n",
              "        [125, 194, 167],\n",
              "        [131, 197, 172],\n",
              "        ...,\n",
              "        [104, 186, 157],\n",
              "        [102, 184, 155],\n",
              "        [ 99, 181, 152]],\n",
              "\n",
              "       ...,\n",
              "\n",
              "       [[ 73, 135, 117],\n",
              "        [ 92, 151, 146],\n",
              "        [ 93, 150, 135],\n",
              "        ...,\n",
              "        [ 67, 120, 110],\n",
              "        [ 68, 127, 119],\n",
              "        [ 69, 128, 113]],\n",
              "\n",
              "       [[ 71, 129, 122],\n",
              "        [ 79, 142, 132],\n",
              "        [ 88, 139, 142],\n",
              "        ...,\n",
              "        [ 58, 112, 105],\n",
              "        [ 45, 105, 168],\n",
              "        [ 50, 101, 116]],\n",
              "\n",
              "       [[ 57, 119,  97],\n",
              "        [ 74, 136, 123],\n",
              "        [ 80, 138, 132],\n",
              "        ...,\n",
              "        [ 73, 134, 125],\n",
              "        [ 71, 118, 127],\n",
              "        [ 73, 126, 132]]], dtype=uint8)</pre></div><script>\n",
              "      (() => {\n",
              "      const titles = ['show data', 'hide data'];\n",
              "      let index = 0\n",
              "      document.querySelector('#id-df05530c-ca0a-4414-9553-64fddf406d9f button').onclick = (e) => {\n",
              "        document.querySelector('#id-df05530c-ca0a-4414-9553-64fddf406d9f').classList.toggle('show_array');\n",
              "        index = (++index) % 2;\n",
              "        document.querySelector('#id-df05530c-ca0a-4414-9553-64fddf406d9f button').textContent = titles[index];\n",
              "        e.preventDefault();\n",
              "        e.stopPropagation();\n",
              "      }\n",
              "      })();\n",
              "    </script>"
            ]
          },
          "metadata": {},
          "execution_count": 79
        }
      ]
    },
    {
      "cell_type": "code",
      "source": [
        "classes = [\"airplane\",\"automobile\",\"bird\",\"cat\",\"deer\",\"dog\",\"frog\",\"horse\",\"ship\",\"truck\"]"
      ],
      "metadata": {
        "id": "f5FFPhUqJ-51"
      },
      "execution_count": 80,
      "outputs": []
    },
    {
      "cell_type": "code",
      "source": [
        "ans=model.predict(img_arr2)"
      ],
      "metadata": {
        "id": "oP1U4pfSKs6V"
      },
      "execution_count": 81,
      "outputs": []
    }
  ]
}